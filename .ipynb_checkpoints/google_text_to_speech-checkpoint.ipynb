{
 "cells": [
  {
   "cell_type": "code",
   "execution_count": 1,
   "metadata": {
    "collapsed": true
   },
   "outputs": [],
   "source": [
    "from google.cloud import texttospeech"
   ]
  },
  {
   "cell_type": "code",
   "execution_count": 3,
   "metadata": {},
   "outputs": [],
   "source": [
    "def text_2_speech(input_text,output_file_loc):\n",
    "    client = texttospeech.TextToSpeechClient()\n",
    "    synthesis_input = texttospeech.types.SynthesisInput(text=input_text)\n",
    "    \n",
    "    voice = texttospeech.types.VoiceSelectionParams(\n",
    "    language_code='en-US',\n",
    "    ssml_gender=texttospeech.enums.SsmlVoiceGender.NEUTRAL)\n",
    "    \n",
    "    audio_config = texttospeech.types.AudioConfig(\n",
    "    audio_encoding=texttospeech.enums.AudioEncoding.MP3)\n",
    "    \n",
    "    response = client.synthesize_speech(synthesis_input, voice, audio_config)\n",
    "    \n",
    "    with open(output_file_loc, 'wb') as out:\n",
    "    # Write the response to the output file.\n",
    "        out.write(response.audio_content)\n",
    "        print(f'Audio content written to file {output_file_loc}')\n",
    "    \n",
    "    "
   ]
  },
  {
   "cell_type": "code",
   "execution_count": 4,
   "metadata": {
    "collapsed": true
   },
   "outputs": [],
   "source": [
    "para = \"Let's learn about lions often called the king of beasts. Lions are unique among the species of the cat family for more than one reason, adult male lions are the only cats to have maids. In addition, lions were the only cats to live in groups. These close family groups are called pride. Lions are mammals, which means they are warm blooded, covered in for, and they feed their babies. Milk. Lions are also carnivores, which means that they eat meat. Lions are at the top of the food chain in the habitats where they live, although they are apex predators, meaning that aside from humans, no other animals prey on lions. Lions are also scavengers. They get about half of their food by scavenging, and we'll eat both animals that have died naturally and kills. They can steal from other predators like leopards, cheetahs, and hyenas. Lions will keep an eye out for circling vultures because the vultures will lead the pride to dead or dying. Animals lion prides generally have one or two adult male lions, several female lionesses and their cubs. The lionesses do almost all of the hunting, working as a team to take down, pray. Once the kill is made. However, the male lions will come in and eat first. \""
   ]
  },
  {
   "cell_type": "code",
   "execution_count": 5,
   "metadata": {},
   "outputs": [
    {
     "name": "stdout",
     "output_type": "stream",
     "text": [
      "Audio content written to file /Users/piupunia/Documents/Hack_harvard/voice_engineering/output_2.mp3\n"
     ]
    }
   ],
   "source": [
    "text_2_speech(input_text = para ,output_file_loc = \"/Users/piupunia/Documents/Hack_harvard/voice_engineering/output_2.mp3\") "
   ]
  }
 ],
 "metadata": {
  "kernelspec": {
   "display_name": "Python 3",
   "language": "python",
   "name": "python3"
  },
  "language_info": {
   "codemirror_mode": {
    "name": "ipython",
    "version": 3
   },
   "file_extension": ".py",
   "mimetype": "text/x-python",
   "name": "python",
   "nbconvert_exporter": "python",
   "pygments_lexer": "ipython3",
   "version": "3.6.5"
  }
 },
 "nbformat": 4,
 "nbformat_minor": 2
}
